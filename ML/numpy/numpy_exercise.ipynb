{
 "cells": [
  {
   "cell_type": "markdown",
   "id": "399f4ab1",
   "metadata": {},
   "source": [
    "<h3 align=\"center\" style=\"color:blue\">Codebasics Python Course: Numpy Exercise</h3>"
   ]
  },
  {
   "cell_type": "markdown",
   "id": "99f1a070",
   "metadata": {},
   "source": [
    "Below two numpy arrays are given with following columns. \n",
    "\n",
    "* Employee Details (1) Employee ID (2) Department (3) Salary\n",
    "* Performance Metrics (1) Employee ID (2) Performance Score (out of 100) (3) Number of Projects Completed\n",
    "\n",
    "Using these two arrays you need to complete set of tasks which are given in the notebook cells (along with hints)"
   ]
  },
  {
   "cell_type": "code",
   "execution_count": 1,
   "id": "ec997f5a",
   "metadata": {},
   "outputs": [],
   "source": [
    "import numpy as np\n",
    "\n",
    "# Employee Details (1) Employee ID (2) Department (3) Salary\n",
    "employee_details = np.array([\n",
    "    [101, 'Sales', 55000, 'Satya Nadella'],  \n",
    "    [102, 'HR', 52000, 'Emily Johnson'],    \n",
    "    [103, 'IT', 72000, 'Fatima Razaak'],        \n",
    "    [104, 'Sales', 60000, 'John Smith'],    \n",
    "    [105, 'IT', 68000, 'Priya Singh'],      \n",
    "    [106, 'HR', 54000, 'Li Wei'],           \n",
    "    [107, 'IT', 71000, 'Michael Brown'],    \n",
    "    [108, 'Sales', 59000, 'Sunita Sharma'], \n",
    "    [109, 'HR', 53000, 'Chen Wei']          \n",
    "])\n",
    "\n",
    "# Performance Metrics (1) Employee ID (2) Performance Score (out of 100) (3) Number of Projects Completed\n",
    "performance_metrics = np.array([\n",
    "    [101, 85, 5],\n",
    "    [102, 78, 3],\n",
    "    [103, 92, 7],\n",
    "    [104, 88, 6],\n",
    "    [105, 79, 4],\n",
    "    [106, 81, 5],\n",
    "    [107, 91, 8],\n",
    "    [108, 77, 4],\n",
    "    [109, 83, 4]\n",
    "])"
   ]
  },
  {
   "cell_type": "markdown",
   "id": "d2a4d20d",
   "metadata": {},
   "source": [
    "### Task 1: Merge above two numpy arrays using np.hstack"
   ]
  },
  {
   "cell_type": "code",
   "execution_count": 38,
   "id": "6f15bb12",
   "metadata": {},
   "outputs": [
    {
     "name": "stdout",
     "output_type": "stream",
     "text": [
      "[['101' 'Sales' '55000' 'Satya Nadella' '101' '85' '5']\n",
      " ['102' 'HR' '52000' 'Emily Johnson' '102' '78' '3']\n",
      " ['103' 'IT' '72000' 'Fatima Razaak' '103' '92' '7']\n",
      " ['104' 'Sales' '60000' 'John Smith' '104' '88' '6']\n",
      " ['105' 'IT' '68000' 'Priya Singh' '105' '79' '4']\n",
      " ['106' 'HR' '54000' 'Li Wei' '106' '81' '5']\n",
      " ['107' 'IT' '71000' 'Michael Brown' '107' '91' '8']\n",
      " ['108' 'Sales' '59000' 'Sunita Sharma' '108' '77' '4']\n",
      " ['109' 'HR' '53000' 'Chen Wei' '109' '83' '4']]\n"
     ]
    }
   ],
   "source": [
    "# write code here\n",
    "employee_performance = np.hstack((employee_details, performance_metrics))\n",
    "print(employee_performance)"
   ]
  },
  {
   "cell_type": "markdown",
   "id": "f6a93493",
   "metadata": {},
   "source": [
    "### Task 2: Print All the Salaries"
   ]
  },
  {
   "cell_type": "code",
   "execution_count": 39,
   "id": "6465fc6f",
   "metadata": {
    "scrolled": false
   },
   "outputs": [
    {
     "name": "stdout",
     "output_type": "stream",
     "text": [
      "['55000' '52000' '72000' '60000' '68000' '54000' '71000' '59000' '53000']\n"
     ]
    }
   ],
   "source": [
    "# write code here\n",
    "salaries = employee_performance[:, 2].copy()\n",
    "print(salaries)"
   ]
  },
  {
   "cell_type": "markdown",
   "id": "18313d6c",
   "metadata": {},
   "source": [
    "### Task 3:  Print All the Salaries in Ascending Order"
   ]
  },
  {
   "cell_type": "code",
   "execution_count": 40,
   "id": "388a42b8",
   "metadata": {
    "scrolled": true
   },
   "outputs": [
    {
     "name": "stdout",
     "output_type": "stream",
     "text": [
      "['52000' '53000' '54000' '55000' '59000' '60000' '68000' '71000' '72000']\n"
     ]
    }
   ],
   "source": [
    "# write code here\n",
    "salaries.sort()\n",
    "print(salaries)"
   ]
  },
  {
   "cell_type": "markdown",
   "id": "f8167f59",
   "metadata": {},
   "source": [
    "### Task 4:  Iterate through entire array and print only employee id and name"
   ]
  },
  {
   "cell_type": "code",
   "execution_count": 42,
   "id": "504c7fba",
   "metadata": {
    "scrolled": false
   },
   "outputs": [
    {
     "name": "stdout",
     "output_type": "stream",
     "text": [
      "Employee 101 has salary 55000\n",
      "Employee 102 has salary 52000\n",
      "Employee 103 has salary 72000\n",
      "Employee 104 has salary 60000\n",
      "Employee 105 has salary 68000\n",
      "Employee 106 has salary 54000\n",
      "Employee 107 has salary 71000\n",
      "Employee 108 has salary 59000\n",
      "Employee 109 has salary 53000\n"
     ]
    }
   ],
   "source": [
    "# write code here\n",
    "for row in employee_performance:\n",
    "    print(f\"Employee {row[0]} has salary {row[2]}\")"
   ]
  },
  {
   "cell_type": "markdown",
   "id": "586b7e31",
   "metadata": {},
   "source": [
    "### Task 5: Print performance score of all the employees"
   ]
  },
  {
   "cell_type": "code",
   "execution_count": null,
   "id": "1584d882",
   "metadata": {},
   "outputs": [
    {
     "name": "stdout",
     "output_type": "stream",
     "text": [
      "['85' '78' '92' '88' '79' '81' '91' '77' '83']\n"
     ]
    }
   ],
   "source": [
    "# write code here\n",
    "employee_scores = employee_performance[:, 5]\n",
    "print(employee_scores)"
   ]
  },
  {
   "cell_type": "markdown",
   "id": "3d9a92ef",
   "metadata": {},
   "source": [
    "### Task 6: Convert these scores to float type by using astype(float) function"
   ]
  },
  {
   "cell_type": "code",
   "execution_count": 44,
   "id": "050ee1ae",
   "metadata": {},
   "outputs": [
    {
     "name": "stdout",
     "output_type": "stream",
     "text": [
      "[85. 78. 92. 88. 79. 81. 91. 77. 83.]\n"
     ]
    }
   ],
   "source": [
    "# write code here\n",
    "employee_scores = employee_scores.astype(float)\n",
    "print(employee_scores)"
   ]
  },
  {
   "cell_type": "markdown",
   "id": "d16afb33",
   "metadata": {},
   "source": [
    "### Task 7:  Now print the average performance score of all the employees"
   ]
  },
  {
   "cell_type": "code",
   "execution_count": 45,
   "id": "94086c24",
   "metadata": {},
   "outputs": [
    {
     "name": "stdout",
     "output_type": "stream",
     "text": [
      "83.77777777777777\n"
     ]
    }
   ],
   "source": [
    "# write code here\n",
    "average_scores = np.mean(employee_scores, axis=0)\n",
    "print(average_scores)"
   ]
  },
  {
   "cell_type": "markdown",
   "id": "86902984",
   "metadata": {},
   "source": [
    "### Task 8:  Print all the unique departments. You can use np.unique function for this"
   ]
  },
  {
   "cell_type": "code",
   "execution_count": 49,
   "id": "b95ca0ef",
   "metadata": {},
   "outputs": [
    {
     "name": "stdout",
     "output_type": "stream",
     "text": [
      "['Sales' 'HR' 'IT' 'Sales' 'IT' 'HR' 'IT' 'Sales' 'HR']\n"
     ]
    }
   ],
   "source": [
    "# first print departments from all the records\n",
    "# write code here\n",
    "print(employee_performance[:, 1])"
   ]
  },
  {
   "cell_type": "code",
   "execution_count": 50,
   "id": "8b567172",
   "metadata": {},
   "outputs": [
    {
     "name": "stdout",
     "output_type": "stream",
     "text": [
      "['HR' 'IT' 'Sales']\n"
     ]
    }
   ],
   "source": [
    "# now print unique departments\n",
    "# write code here\n",
    "depts = np.unique(employee_performance[:, 1])\n",
    "print(depts)"
   ]
  },
  {
   "cell_type": "markdown",
   "id": "5707cbae",
   "metadata": {},
   "source": [
    "### Task 9: Print average salary in HR department"
   ]
  },
  {
   "cell_type": "code",
   "execution_count": 53,
   "id": "2638deb2",
   "metadata": {},
   "outputs": [
    {
     "name": "stdout",
     "output_type": "stream",
     "text": [
      "[['102' 'HR' '52000' 'Emily Johnson' '102' '78' '3']\n",
      " ['106' 'HR' '54000' 'Li Wei' '106' '81' '5']\n",
      " ['109' 'HR' '53000' 'Chen Wei' '109' '83' '4']]\n"
     ]
    }
   ],
   "source": [
    "# First print all the records in HR department\n",
    "\n",
    "# write code here\n",
    "hr_records = np.array([x for x in employee_performance if x[1]==\"HR\"])\n",
    "print(hr_records)"
   ]
  },
  {
   "cell_type": "code",
   "execution_count": 54,
   "id": "39ea4122",
   "metadata": {},
   "outputs": [
    {
     "name": "stdout",
     "output_type": "stream",
     "text": [
      "[52000. 54000. 53000.]\n"
     ]
    }
   ],
   "source": [
    "# Now from these records only print  the salary column. Convert that to float using astype(float) function\n",
    "\n",
    "# write code here\n",
    "hr_salaries = hr_records[:, 2].astype(float)\n",
    "print(hr_salaries)"
   ]
  },
  {
   "cell_type": "code",
   "execution_count": 55,
   "id": "5c836bbb",
   "metadata": {},
   "outputs": [
    {
     "name": "stdout",
     "output_type": "stream",
     "text": [
      "53000.0\n"
     ]
    }
   ],
   "source": [
    "# Take an average of this column using np.mean() function\n",
    "\n",
    "# write code here\n",
    "avg_hr_salaries = np.mean(hr_salaries)\n",
    "print(avg_hr_salaries)"
   ]
  }
 ],
 "metadata": {
  "kernelspec": {
   "display_name": "Python 3",
   "language": "python",
   "name": "python3"
  },
  "language_info": {
   "codemirror_mode": {
    "name": "ipython",
    "version": 3
   },
   "file_extension": ".py",
   "mimetype": "text/x-python",
   "name": "python",
   "nbconvert_exporter": "python",
   "pygments_lexer": "ipython3",
   "version": "3.12.6"
  }
 },
 "nbformat": 4,
 "nbformat_minor": 5
}
