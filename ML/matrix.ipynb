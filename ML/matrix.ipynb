{
 "cells": [
  {
   "cell_type": "code",
   "execution_count": 1,
   "metadata": {},
   "outputs": [],
   "source": [
    "import numpy as np"
   ]
  },
  {
   "cell_type": "code",
   "execution_count": null,
   "metadata": {},
   "outputs": [
    {
     "data": {
      "text/plain": [
       "array([[1, 2, 3, 4, 5, 6]])"
      ]
     },
     "execution_count": 8,
     "metadata": {},
     "output_type": "execute_result"
    }
   ],
   "source": [
    "np.array([1, 2, 3, 4, 5, 6])"
   ]
  },
  {
   "cell_type": "code",
   "execution_count": 8,
   "metadata": {},
   "outputs": [],
   "source": [
    "class Matrix:\n",
    "    def __init__(self, rows, cols, values):\n",
    "        self.rows = rows\n",
    "        self.cols = cols\n",
    "        self.values = values\n",
    "        self.input_matrix(values)\n",
    "        \n",
    "    def input_matrix(self, values):\n",
    "        self.matrix = np.zeros((self.rows, self.cols))\n",
    "        j = 0\n",
    "        for i in range(self.rows):\n",
    "            j += self.cols\n",
    "            self.matrix[i] = values[j: j+i]\n",
    "            \n",
    "    def display_matrix(self):\n",
    "        print(\"Matrix:\")\n",
    "        for row in self.matrix:\n",
    "            print(row)\n",
    "    def add(self, other):\n",
    "        if self.rows != other.rows or self.cols != other.cols:\n",
    "            raise ValueError(\"Matrices must have the same dimensions for addition.\")\n",
    "        result = Matrix(self.rows, self.cols)\n",
    "        for i in range(self.rows):\n",
    "            for j in range(self.cols):\n",
    "                result.matrix[i][j] = self.matrix[i][j] + other.matrix[i][j]\n",
    "        return result\n",
    "    \n",
    "    def subtract(self, other):\n",
    "        if self.rows != other.rows or self.cols != other.cols:\n",
    "            raise ValueError(\"Matrices must have the same dimensions for subtraction.\")\n",
    "        result = Matrix(self.rows, self.cols)\n",
    "        for i in range(self.rows):\n",
    "            for j in range(self.cols):\n",
    "                result.matrix[i][j] = self.matrix[i][j] - other.matrix[i][j]\n",
    "        return result\n",
    "    \n",
    "    def multiply_scalar(self, scalar):\n",
    "        result = Matrix(self.rows, self.cols)\n",
    "        for i in range(self.rows):\n",
    "            for j in range(self.cols):\n",
    "                result.matrix[i][j] = self.matrix[i][j] * scalar\n",
    "        return result\n",
    "    \n",
    "    def multiply_matrix(self, other):\n",
    "        if self.cols!= other.rows:\n",
    "            raise ValueError(\"Matrices must have compatible dimensions for multiplication.\")\n",
    "        result = Matrix(self.rows, other.cols)\n",
    "        for i in range(self.rows):\n",
    "            for j in range(other.cols):\n",
    "                for k in range(self.cols):\n",
    "                    result.matrix[i][j] += self.matrix[i][k] * other.matrix[k][j]\n",
    "        return result"
   ]
  },
  {
   "cell_type": "code",
   "execution_count": 23,
   "metadata": {},
   "outputs": [
    {
     "name": "stdout",
     "output_type": "stream",
     "text": [
      "Input two matrices\n",
      "Matrix 1 dimensions: \n",
      "3 3\n",
      "Matrix 1 values: \n",
      "[1.0, 2.0, 3.0, 4.0, 5.0, 6.0, 7.0, 8.0, 9.0]\n",
      "An error occurred: Cannot interpret '3' as a data type\n"
     ]
    }
   ],
   "source": [
    "if __name__ == \"__main__\":\n",
    "    while True:\n",
    "        try:\n",
    "            print(\"Input two matrices\")\n",
    "            print(\"Matrix 1 dimensions: \")\n",
    "            rows1, cols1 = map(int, input().split())\n",
    "            print(rows1, cols1)\n",
    "            print(\"Matrix 1 values: \")\n",
    "            values = list(map(float, input().split()))\n",
    "            print(values)\n",
    "            matrix1 = Matrix(rows1, cols1, values)\n",
    "            print(\"Matrix 2 dimensions: \")\n",
    "            rows2, cols2 = map(int, input().split())\n",
    "            print(rows2, cols2)\n",
    "            print(\"Matrix 2 values: \")\n",
    "            values = list(map(float, input().split()))\n",
    "            print(values)\n",
    "            matrix2 = Matrix(rows2, cols2, values)          \n",
    "            print(\"Matrix Operations:\")\n",
    "            print(\"1. Subtraction\")\n",
    "            print(\"2. Scalar Multiplication\")\n",
    "            print(\"3. Matrix Multiplication\")\n",
    "            print(\"4. Transpose\")\n",
    "            print(\"5. Exit\")\n",
    "            print(\"----------------------------------------------------------------\")\n",
    "            choice = int(input(\"Enter a choice: \"))\n",
    "            if choice == 1:\n",
    "                matrix1.display_matrix()\n",
    "            elif choice == 2:\n",
    "                pass  # Add scalar multiplication logic here\n",
    "            elif choice == 3:\n",
    "                pass  # Add matrix multiplication logic here\n",
    "            elif choice == 4:\n",
    "                pass  # Add transpose logic here\n",
    "            else:\n",
    "                print(\"Exiting...\")\n",
    "                break\n",
    "        except ValueError:\n",
    "            print(\"Invalid input. Please enter a valid integer between from 1 to 5.\")\n",
    "        except Exception as e:\n",
    "            print(f\"An error occurred: {e}\")\n",
    "        break"
   ]
  },
  {
   "cell_type": "code",
   "execution_count": null,
   "metadata": {},
   "outputs": [],
   "source": [
    "def input_matrix(rows, cols, values):\n",
    "    matrix = np.zeros((rows, cols))\n",
    "    j = 0\n",
    "    for i in range(rows):\n",
    "        \n",
    "    print(matrix)"
   ]
  },
  {
   "cell_type": "code",
   "execution_count": 12,
   "metadata": {},
   "outputs": [
    {
     "name": "stdout",
     "output_type": "stream",
     "text": [
      "Input two matrices\n",
      "2 3\n",
      "[1.0, 2.0, 3.0, 4.0, 5.0, 6.0]\n",
      "ok\n"
     ]
    },
    {
     "ename": "AttributeError",
     "evalue": "'numpy.ndarray' object has no attribute 'append'",
     "output_type": "error",
     "traceback": [
      "\u001b[1;31m---------------------------------------------------------------------------\u001b[0m",
      "\u001b[1;31mAttributeError\u001b[0m                            Traceback (most recent call last)",
      "Cell \u001b[1;32mIn[12], line 13\u001b[0m\n\u001b[0;32m     10\u001b[0m     \u001b[38;5;28mprint\u001b[39m(values)\n\u001b[0;32m     11\u001b[0m     \u001b[38;5;66;03m# matrix = Matrix(rows1, cols1, values)\u001b[39;00m\n\u001b[0;32m     12\u001b[0m     \u001b[38;5;66;03m# matrix.display_matrix()\u001b[39;00m\n\u001b[1;32m---> 13\u001b[0m     \u001b[43minput_matrix\u001b[49m\u001b[43m(\u001b[49m\u001b[43mrows1\u001b[49m\u001b[43m,\u001b[49m\u001b[43m \u001b[49m\u001b[43mcols1\u001b[49m\u001b[43m,\u001b[49m\u001b[43m \u001b[49m\u001b[43mvalues\u001b[49m\u001b[43m)\u001b[49m\n\u001b[0;32m     14\u001b[0m \u001b[38;5;28;01mfinally\u001b[39;00m:\n\u001b[0;32m     15\u001b[0m     \u001b[38;5;28mprint\u001b[39m(\u001b[38;5;124m\"\u001b[39m\u001b[38;5;124mok\u001b[39m\u001b[38;5;124m\"\u001b[39m)\n",
      "Cell \u001b[1;32mIn[11], line 5\u001b[0m, in \u001b[0;36minput_matrix\u001b[1;34m(rows, cols, values)\u001b[0m\n\u001b[0;32m      3\u001b[0m j \u001b[38;5;241m=\u001b[39m \u001b[38;5;241m0\u001b[39m\n\u001b[0;32m      4\u001b[0m \u001b[38;5;28;01mfor\u001b[39;00m i \u001b[38;5;129;01min\u001b[39;00m \u001b[38;5;28mrange\u001b[39m(rows):\n\u001b[1;32m----> 5\u001b[0m     \u001b[43mmatrix\u001b[49m\u001b[38;5;241;43m.\u001b[39;49m\u001b[43mappend\u001b[49m(values[j:j])\n\u001b[0;32m      6\u001b[0m \u001b[38;5;28mprint\u001b[39m(matrix)\n",
      "\u001b[1;31mAttributeError\u001b[0m: 'numpy.ndarray' object has no attribute 'append'"
     ]
    }
   ],
   "source": [
    "if __name__ == \"__main__\":\n",
    "    while True:\n",
    "        try:\n",
    "            print(\"Input two matrices\")\n",
    "            dims = input(\"Matrix 1 dimensions: \")\n",
    "            rows1, cols1 = map(int, dims.split())\n",
    "            print(rows1, cols1)\n",
    "            values_input = input(\"Matrix 1 values: \")\n",
    "            values = list(map(float, values_input.split()))\n",
    "            print(values)\n",
    "            # matrix = Matrix(rows1, cols1, values)\n",
    "            # matrix.display_matrix()\n",
    "            input_matrix(rows1, cols1, values)\n",
    "        finally:\n",
    "            print(\"ok\")\n",
    "            "
   ]
  },
  {
   "cell_type": "code",
   "execution_count": null,
   "metadata": {},
   "outputs": [],
   "source": []
  }
 ],
 "metadata": {
  "kernelspec": {
   "display_name": "Python 3",
   "language": "python",
   "name": "python3"
  },
  "language_info": {
   "codemirror_mode": {
    "name": "ipython",
    "version": 3
   },
   "file_extension": ".py",
   "mimetype": "text/x-python",
   "name": "python",
   "nbconvert_exporter": "python",
   "pygments_lexer": "ipython3",
   "version": "3.12.6"
  }
 },
 "nbformat": 4,
 "nbformat_minor": 2
}
