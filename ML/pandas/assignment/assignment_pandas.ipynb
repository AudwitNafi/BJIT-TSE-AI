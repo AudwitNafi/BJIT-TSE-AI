{
 "cells": [
  {
   "cell_type": "markdown",
   "metadata": {},
   "source": [
    "# <span style=\"color:#4B8BBE;\">Data Analysis Assignment on Stock Price Trends Using <span style=\"color:#FF4500;\">NumPy</span> and <span style=\"color:#FFD700;\">pandas</span></span>\n",
    "\n",
    "### <span style=\"background-color:#D3D3D3; padding: 3px;\">Dataset:</span> `stock_data.csv`\n",
    "\n",
    "**<span style=\"color:#2E8B57;\">Objective:</span>**  \n",
    "This assignment aims to deepen understanding of data manipulation, analysis, and statistical calculations using Python libraries **NumPy** and **pandas**. The **`stock_data.csv`** dataset contains historical stock price data with various columns, including:\n",
    "- **Date**\n",
    "- **Open**\n",
    "- **High**\n",
    "- **Low**\n",
    "- **Close**\n",
    "- **Adjusted Close**\n",
    "- **Volume**\n",
    "\n",
    "Through this assignment, you will perform data analysis and answer questions that provide insights into each stock’s **performance, volatility,** and **trading behavior**.\n",
    "\n",
    "---\n",
    "\n",
    "### <span style=\"background-color:#ADD8E6; padding: 3px;\">Assignment Scope:</span>\n",
    "\n",
    "- Calculate stock-specific statistics, such as highest trading volumes and daily return averages.\n",
    "- Explore stock volatility and **stability** over time.\n",
    "- Use time-based data grouping to gain insights into monthly and cumulative price trends.\n",
    "- Analyze trading volume trends and **price fluctuation patterns** to identify significant patterns.\n",
    "\n",
    "---\n",
    "\n",
    "### <span style=\"background-color:#FFD700; padding: 3px;\">Tools Required:</span>\n",
    "\n",
    "- **Python**\n",
    "- **NumPy**\n",
    "- **pandas**\n"
   ]
  },
  {
   "cell_type": "markdown",
   "metadata": {},
   "source": []
  },
  {
   "cell_type": "markdown",
   "metadata": {},
   "source": [
    "### Exploratory Data Analysis"
   ]
  },
  {
   "cell_type": "code",
   "execution_count": 3,
   "metadata": {},
   "outputs": [],
   "source": [
    "import numpy as np\n",
    "import pandas as pd"
   ]
  },
  {
   "cell_type": "code",
   "execution_count": 84,
   "metadata": {},
   "outputs": [],
   "source": [
    "df = pd.read_csv('stock_data.csv')"
   ]
  },
  {
   "cell_type": "code",
   "execution_count": 85,
   "metadata": {},
   "outputs": [
    {
     "data": {
      "text/html": [
       "<div>\n",
       "<style scoped>\n",
       "    .dataframe tbody tr th:only-of-type {\n",
       "        vertical-align: middle;\n",
       "    }\n",
       "\n",
       "    .dataframe tbody tr th {\n",
       "        vertical-align: top;\n",
       "    }\n",
       "\n",
       "    .dataframe thead th {\n",
       "        text-align: right;\n",
       "    }\n",
       "</style>\n",
       "<table border=\"1\" class=\"dataframe\">\n",
       "  <thead>\n",
       "    <tr style=\"text-align: right;\">\n",
       "      <th></th>\n",
       "      <th>Date</th>\n",
       "      <th>Stock Symbol</th>\n",
       "      <th>Open</th>\n",
       "      <th>High</th>\n",
       "      <th>Low</th>\n",
       "      <th>Close</th>\n",
       "      <th>Adjusted Close</th>\n",
       "      <th>Volume</th>\n",
       "    </tr>\n",
       "  </thead>\n",
       "  <tbody>\n",
       "    <tr>\n",
       "      <th>1295</th>\n",
       "      <td>2022-12-26</td>\n",
       "      <td>MSFT</td>\n",
       "      <td>100.125097</td>\n",
       "      <td>102.585282</td>\n",
       "      <td>99.450981</td>\n",
       "      <td>100.644200</td>\n",
       "      <td>101.850175</td>\n",
       "      <td>3310165</td>\n",
       "    </tr>\n",
       "    <tr>\n",
       "      <th>1296</th>\n",
       "      <td>2022-12-27</td>\n",
       "      <td>MSFT</td>\n",
       "      <td>100.283318</td>\n",
       "      <td>102.463267</td>\n",
       "      <td>100.182982</td>\n",
       "      <td>100.640442</td>\n",
       "      <td>99.197455</td>\n",
       "      <td>2111707</td>\n",
       "    </tr>\n",
       "    <tr>\n",
       "      <th>1297</th>\n",
       "      <td>2022-12-28</td>\n",
       "      <td>MSFT</td>\n",
       "      <td>99.751687</td>\n",
       "      <td>101.032765</td>\n",
       "      <td>99.611749</td>\n",
       "      <td>100.599260</td>\n",
       "      <td>101.656126</td>\n",
       "      <td>2033562</td>\n",
       "    </tr>\n",
       "    <tr>\n",
       "      <th>1298</th>\n",
       "      <td>2022-12-29</td>\n",
       "      <td>MSFT</td>\n",
       "      <td>100.424971</td>\n",
       "      <td>102.133025</td>\n",
       "      <td>98.701738</td>\n",
       "      <td>100.614436</td>\n",
       "      <td>100.883678</td>\n",
       "      <td>2259325</td>\n",
       "    </tr>\n",
       "    <tr>\n",
       "      <th>1299</th>\n",
       "      <td>2022-12-30</td>\n",
       "      <td>MSFT</td>\n",
       "      <td>99.932393</td>\n",
       "      <td>101.519560</td>\n",
       "      <td>98.615798</td>\n",
       "      <td>100.601136</td>\n",
       "      <td>100.855381</td>\n",
       "      <td>4388163</td>\n",
       "    </tr>\n",
       "  </tbody>\n",
       "</table>\n",
       "</div>"
      ],
      "text/plain": [
       "            Date Stock Symbol        Open        High         Low       Close  \\\n",
       "1295  2022-12-26         MSFT  100.125097  102.585282   99.450981  100.644200   \n",
       "1296  2022-12-27         MSFT  100.283318  102.463267  100.182982  100.640442   \n",
       "1297  2022-12-28         MSFT   99.751687  101.032765   99.611749  100.599260   \n",
       "1298  2022-12-29         MSFT  100.424971  102.133025   98.701738  100.614436   \n",
       "1299  2022-12-30         MSFT   99.932393  101.519560   98.615798  100.601136   \n",
       "\n",
       "      Adjusted Close   Volume  \n",
       "1295      101.850175  3310165  \n",
       "1296       99.197455  2111707  \n",
       "1297      101.656126  2033562  \n",
       "1298      100.883678  2259325  \n",
       "1299      100.855381  4388163  "
      ]
     },
     "execution_count": 85,
     "metadata": {},
     "output_type": "execute_result"
    }
   ],
   "source": [
    "df.tail()"
   ]
  },
  {
   "cell_type": "code",
   "execution_count": 86,
   "metadata": {},
   "outputs": [
    {
     "name": "stdout",
     "output_type": "stream",
     "text": [
      "<class 'pandas.core.frame.DataFrame'>\n",
      "RangeIndex: 1300 entries, 0 to 1299\n",
      "Data columns (total 8 columns):\n",
      " #   Column          Non-Null Count  Dtype  \n",
      "---  ------          --------------  -----  \n",
      " 0   Date            1300 non-null   object \n",
      " 1   Stock Symbol    1300 non-null   object \n",
      " 2   Open            1300 non-null   float64\n",
      " 3   High            1300 non-null   float64\n",
      " 4   Low             1300 non-null   float64\n",
      " 5   Close           1300 non-null   float64\n",
      " 6   Adjusted Close  1300 non-null   float64\n",
      " 7   Volume          1300 non-null   int64  \n",
      "dtypes: float64(5), int64(1), object(2)\n",
      "memory usage: 81.4+ KB\n"
     ]
    }
   ],
   "source": [
    "df.info()"
   ]
  },
  {
   "cell_type": "code",
   "execution_count": 87,
   "metadata": {},
   "outputs": [
    {
     "data": {
      "text/html": [
       "<div>\n",
       "<style scoped>\n",
       "    .dataframe tbody tr th:only-of-type {\n",
       "        vertical-align: middle;\n",
       "    }\n",
       "\n",
       "    .dataframe tbody tr th {\n",
       "        vertical-align: top;\n",
       "    }\n",
       "\n",
       "    .dataframe thead th {\n",
       "        text-align: right;\n",
       "    }\n",
       "</style>\n",
       "<table border=\"1\" class=\"dataframe\">\n",
       "  <thead>\n",
       "    <tr style=\"text-align: right;\">\n",
       "      <th></th>\n",
       "      <th>count</th>\n",
       "      <th>mean</th>\n",
       "      <th>std</th>\n",
       "      <th>min</th>\n",
       "      <th>25%</th>\n",
       "      <th>50%</th>\n",
       "      <th>75%</th>\n",
       "      <th>max</th>\n",
       "    </tr>\n",
       "  </thead>\n",
       "  <tbody>\n",
       "    <tr>\n",
       "      <th>Open</th>\n",
       "      <td>1300.0</td>\n",
       "      <td>1.001419e+02</td>\n",
       "      <td>5.989739e-01</td>\n",
       "      <td>9.887757e+01</td>\n",
       "      <td>9.963276e+01</td>\n",
       "      <td>1.001425e+02</td>\n",
       "      <td>1.006019e+02</td>\n",
       "      <td>1.015007e+02</td>\n",
       "    </tr>\n",
       "    <tr>\n",
       "      <th>High</th>\n",
       "      <td>1300.0</td>\n",
       "      <td>1.011488e+02</td>\n",
       "      <td>6.080448e-01</td>\n",
       "      <td>9.985166e+01</td>\n",
       "      <td>1.006571e+02</td>\n",
       "      <td>1.011492e+02</td>\n",
       "      <td>1.016529e+02</td>\n",
       "      <td>1.025853e+02</td>\n",
       "    </tr>\n",
       "    <tr>\n",
       "      <th>Low</th>\n",
       "      <td>1300.0</td>\n",
       "      <td>9.914171e+01</td>\n",
       "      <td>6.021178e-01</td>\n",
       "      <td>9.781613e+01</td>\n",
       "      <td>9.864577e+01</td>\n",
       "      <td>9.913270e+01</td>\n",
       "      <td>9.965478e+01</td>\n",
       "      <td>1.005402e+02</td>\n",
       "    </tr>\n",
       "    <tr>\n",
       "      <th>Close</th>\n",
       "      <td>1300.0</td>\n",
       "      <td>1.001422e+02</td>\n",
       "      <td>1.800959e-01</td>\n",
       "      <td>9.974939e+01</td>\n",
       "      <td>1.000248e+02</td>\n",
       "      <td>1.001064e+02</td>\n",
       "      <td>1.002055e+02</td>\n",
       "      <td>1.006442e+02</td>\n",
       "    </tr>\n",
       "    <tr>\n",
       "      <th>Adjusted Close</th>\n",
       "      <td>1300.0</td>\n",
       "      <td>1.001771e+02</td>\n",
       "      <td>1.199322e+00</td>\n",
       "      <td>9.788520e+01</td>\n",
       "      <td>9.914649e+01</td>\n",
       "      <td>1.001620e+02</td>\n",
       "      <td>1.012683e+02</td>\n",
       "      <td>1.026151e+02</td>\n",
       "    </tr>\n",
       "    <tr>\n",
       "      <th>Volume</th>\n",
       "      <td>1300.0</td>\n",
       "      <td>2.938228e+06</td>\n",
       "      <td>1.160914e+06</td>\n",
       "      <td>1.000810e+06</td>\n",
       "      <td>1.909291e+06</td>\n",
       "      <td>2.964084e+06</td>\n",
       "      <td>3.911224e+06</td>\n",
       "      <td>4.991685e+06</td>\n",
       "    </tr>\n",
       "  </tbody>\n",
       "</table>\n",
       "</div>"
      ],
      "text/plain": [
       "                 count          mean           std           min  \\\n",
       "Open            1300.0  1.001419e+02  5.989739e-01  9.887757e+01   \n",
       "High            1300.0  1.011488e+02  6.080448e-01  9.985166e+01   \n",
       "Low             1300.0  9.914171e+01  6.021178e-01  9.781613e+01   \n",
       "Close           1300.0  1.001422e+02  1.800959e-01  9.974939e+01   \n",
       "Adjusted Close  1300.0  1.001771e+02  1.199322e+00  9.788520e+01   \n",
       "Volume          1300.0  2.938228e+06  1.160914e+06  1.000810e+06   \n",
       "\n",
       "                         25%           50%           75%           max  \n",
       "Open            9.963276e+01  1.001425e+02  1.006019e+02  1.015007e+02  \n",
       "High            1.006571e+02  1.011492e+02  1.016529e+02  1.025853e+02  \n",
       "Low             9.864577e+01  9.913270e+01  9.965478e+01  1.005402e+02  \n",
       "Close           1.000248e+02  1.001064e+02  1.002055e+02  1.006442e+02  \n",
       "Adjusted Close  9.914649e+01  1.001620e+02  1.012683e+02  1.026151e+02  \n",
       "Volume          1.909291e+06  2.964084e+06  3.911224e+06  4.991685e+06  "
      ]
     },
     "execution_count": 87,
     "metadata": {},
     "output_type": "execute_result"
    }
   ],
   "source": [
    "df.describe().T"
   ]
  },
  {
   "cell_type": "code",
   "execution_count": 88,
   "metadata": {},
   "outputs": [
    {
     "data": {
      "text/plain": [
       "array(['AAPL', 'GOOG', 'AMZN', 'TSLA', 'MSFT'], dtype=object)"
      ]
     },
     "execution_count": 88,
     "metadata": {},
     "output_type": "execute_result"
    }
   ],
   "source": [
    "df['Stock Symbol'].unique()"
   ]
  },
  {
   "cell_type": "code",
   "execution_count": 89,
   "metadata": {},
   "outputs": [
    {
     "data": {
      "text/plain": [
       "Date              0\n",
       "Stock Symbol      0\n",
       "Open              0\n",
       "High              0\n",
       "Low               0\n",
       "Close             0\n",
       "Adjusted Close    0\n",
       "Volume            0\n",
       "dtype: int64"
      ]
     },
     "execution_count": 89,
     "metadata": {},
     "output_type": "execute_result"
    }
   ],
   "source": [
    "df.isnull().sum()   #check null values"
   ]
  },
  {
   "cell_type": "markdown",
   "metadata": {},
   "source": [
    "# Import the dataset"
   ]
  },
  {
   "cell_type": "markdown",
   "metadata": {},
   "source": [
    "1. Calculate the average daily trading volume for each stock, and identify the stock with the lowest average trading volume."
   ]
  },
  {
   "cell_type": "code",
   "execution_count": 136,
   "metadata": {},
   "outputs": [
    {
     "name": "stdout",
     "output_type": "stream",
     "text": [
      "AAPL has minimum avg volume: 2870155.576923077\n"
     ]
    }
   ],
   "source": [
    "# Code here\n",
    "avg_volumes = df.groupby('Stock Symbol')['Volume'].mean()\n",
    "# avg = pd.DataFrame(avg_volumes)\n",
    "# lowest_volume_stock = avg[avg['Volume']==min(avg['Volume'])]\n",
    "print(f\"{avg_volumes.idxmin()} has minimum avg volume: {avg_volumes.min()}\")"
   ]
  },
  {
   "cell_type": "markdown",
   "metadata": {},
   "source": [
    "2. For each stock, calculate the percentage of days in the year when the stock's closing price was higher than its opening price."
   ]
  },
  {
   "cell_type": "code",
   "execution_count": 91,
   "metadata": {},
   "outputs": [
    {
     "data": {
      "text/plain": [
       "Stock Symbol\n",
       "AAPL    260\n",
       "AMZN    260\n",
       "GOOG    260\n",
       "MSFT    260\n",
       "TSLA    260\n",
       "Name: Date, dtype: int64"
      ]
     },
     "execution_count": 91,
     "metadata": {},
     "output_type": "execute_result"
    }
   ],
   "source": [
    "total_days = df.groupby('Stock Symbol')['Date'].count()\n",
    "total_days"
   ]
  },
  {
   "cell_type": "code",
   "execution_count": 92,
   "metadata": {},
   "outputs": [],
   "source": [
    "stocks = df['Stock Symbol'].unique()"
   ]
  },
  {
   "cell_type": "code",
   "execution_count": 93,
   "metadata": {},
   "outputs": [],
   "source": [
    "def calculate_percentage(stock_symbol):\n",
    "    days = df[df['Stock Symbol']== stock_symbol]\n",
    "    total_days = 260\n",
    "    return (days[days['Close']>days['Open']]['Date'].count()/total_days) * 100"
   ]
  },
  {
   "cell_type": "code",
   "execution_count": 94,
   "metadata": {},
   "outputs": [
    {
     "name": "stdout",
     "output_type": "stream",
     "text": [
      "Stock: AAPL, Percentage of days when closing price was higher than opening price: 50.77%\n",
      "Stock: GOOG, Percentage of days when closing price was higher than opening price: 48.85%\n",
      "Stock: AMZN, Percentage of days when closing price was higher than opening price: 46.92%\n",
      "Stock: TSLA, Percentage of days when closing price was higher than opening price: 49.62%\n",
      "Stock: MSFT, Percentage of days when closing price was higher than opening price: 53.46%\n"
     ]
    }
   ],
   "source": [
    "for stock in stocks:\n",
    "    print(f'Stock: {stock}, Percentage of days when closing price was higher than opening price: {calculate_percentage(stock).round(2)}%')"
   ]
  },
  {
   "cell_type": "markdown",
   "metadata": {},
   "source": [
    "3. Calculate the highest monthly average closing price for each stock, and identify the month and stock with the overall highest average closing price."
   ]
  },
  {
   "cell_type": "code",
   "execution_count": 95,
   "metadata": {},
   "outputs": [],
   "source": [
    "# Code here\n",
    "df['Months'] = df['Date'].apply(lambda x: x[5:7])"
   ]
  },
  {
   "cell_type": "code",
   "execution_count": 96,
   "metadata": {},
   "outputs": [
    {
     "data": {
      "text/html": [
       "<div>\n",
       "<style scoped>\n",
       "    .dataframe tbody tr th:only-of-type {\n",
       "        vertical-align: middle;\n",
       "    }\n",
       "\n",
       "    .dataframe tbody tr th {\n",
       "        vertical-align: top;\n",
       "    }\n",
       "\n",
       "    .dataframe thead th {\n",
       "        text-align: right;\n",
       "    }\n",
       "</style>\n",
       "<table border=\"1\" class=\"dataframe\">\n",
       "  <thead>\n",
       "    <tr style=\"text-align: right;\">\n",
       "      <th></th>\n",
       "      <th>Date</th>\n",
       "      <th>Stock Symbol</th>\n",
       "      <th>Open</th>\n",
       "      <th>High</th>\n",
       "      <th>Low</th>\n",
       "      <th>Close</th>\n",
       "      <th>Adjusted Close</th>\n",
       "      <th>Volume</th>\n",
       "      <th>Months</th>\n",
       "    </tr>\n",
       "  </thead>\n",
       "  <tbody>\n",
       "    <tr>\n",
       "      <th>0</th>\n",
       "      <td>2022-01-03</td>\n",
       "      <td>AAPL</td>\n",
       "      <td>99.777893</td>\n",
       "      <td>100.385725</td>\n",
       "      <td>99.910470</td>\n",
       "      <td>100.036281</td>\n",
       "      <td>100.246683</td>\n",
       "      <td>3871650</td>\n",
       "      <td>01</td>\n",
       "    </tr>\n",
       "    <tr>\n",
       "      <th>1</th>\n",
       "      <td>2022-01-04</td>\n",
       "      <td>AAPL</td>\n",
       "      <td>99.439118</td>\n",
       "      <td>100.701557</td>\n",
       "      <td>99.891825</td>\n",
       "      <td>100.045284</td>\n",
       "      <td>101.453156</td>\n",
       "      <td>1686352</td>\n",
       "      <td>01</td>\n",
       "    </tr>\n",
       "    <tr>\n",
       "      <th>2</th>\n",
       "      <td>2022-01-05</td>\n",
       "      <td>AAPL</td>\n",
       "      <td>99.985518</td>\n",
       "      <td>101.427452</td>\n",
       "      <td>98.630588</td>\n",
       "      <td>100.065859</td>\n",
       "      <td>101.916657</td>\n",
       "      <td>4847853</td>\n",
       "      <td>01</td>\n",
       "    </tr>\n",
       "    <tr>\n",
       "      <th>3</th>\n",
       "      <td>2022-01-06</td>\n",
       "      <td>AAPL</td>\n",
       "      <td>99.199884</td>\n",
       "      <td>100.238233</td>\n",
       "      <td>98.789464</td>\n",
       "      <td>100.111677</td>\n",
       "      <td>98.552026</td>\n",
       "      <td>2967592</td>\n",
       "      <td>01</td>\n",
       "    </tr>\n",
       "    <tr>\n",
       "      <th>4</th>\n",
       "      <td>2022-01-07</td>\n",
       "      <td>AAPL</td>\n",
       "      <td>100.750519</td>\n",
       "      <td>101.366349</td>\n",
       "      <td>99.349254</td>\n",
       "      <td>100.150028</td>\n",
       "      <td>100.674140</td>\n",
       "      <td>2170599</td>\n",
       "      <td>01</td>\n",
       "    </tr>\n",
       "  </tbody>\n",
       "</table>\n",
       "</div>"
      ],
      "text/plain": [
       "         Date Stock Symbol        Open        High        Low       Close  \\\n",
       "0  2022-01-03         AAPL   99.777893  100.385725  99.910470  100.036281   \n",
       "1  2022-01-04         AAPL   99.439118  100.701557  99.891825  100.045284   \n",
       "2  2022-01-05         AAPL   99.985518  101.427452  98.630588  100.065859   \n",
       "3  2022-01-06         AAPL   99.199884  100.238233  98.789464  100.111677   \n",
       "4  2022-01-07         AAPL  100.750519  101.366349  99.349254  100.150028   \n",
       "\n",
       "   Adjusted Close   Volume Months  \n",
       "0      100.246683  3871650     01  \n",
       "1      101.453156  1686352     01  \n",
       "2      101.916657  4847853     01  \n",
       "3       98.552026  2967592     01  \n",
       "4      100.674140  2170599     01  "
      ]
     },
     "execution_count": 96,
     "metadata": {},
     "output_type": "execute_result"
    }
   ],
   "source": [
    "df.head()"
   ]
  },
  {
   "cell_type": "code",
   "execution_count": 104,
   "metadata": {},
   "outputs": [],
   "source": [
    "def get_monthly_average_close(stock):\n",
    "    stock_df = df[df['Stock Symbol']==stock]\n",
    "    monthly_close = stock_df.groupby('Months')['Close'].mean()\n",
    "    return monthly_close.mean()"
   ]
  },
  {
   "cell_type": "code",
   "execution_count": 102,
   "metadata": {},
   "outputs": [],
   "source": [
    "# stock_df = df[df['Stock Symbol']=='GOOG']\n",
    "# monthly_close = stock_df.groupby('Months')['Close'].mean()\n",
    "# monthly_close.mean()"
   ]
  },
  {
   "cell_type": "code",
   "execution_count": 105,
   "metadata": {},
   "outputs": [
    {
     "name": "stdout",
     "output_type": "stream",
     "text": [
      "Stock: AAPL, Monthly Average Closing Prices: 100.34240530982788\n",
      "Stock: GOOG, Monthly Average Closing Prices: 100.02943927843451\n",
      "Stock: AMZN, Monthly Average Closing Prices: 100.08791418548596\n",
      "Stock: TSLA, Monthly Average Closing Prices: 100.11293575158045\n",
      "Stock: MSFT, Monthly Average Closing Prices: 100.13414352306272\n"
     ]
    }
   ],
   "source": [
    "for stock in stocks:\n",
    "    print(f'Stock: {stock}, Monthly Average Closing Prices: {get_monthly_average_close(stock)}')"
   ]
  },
  {
   "cell_type": "code",
   "execution_count": null,
   "metadata": {},
   "outputs": [],
   "source": []
  },
  {
   "cell_type": "markdown",
   "metadata": {},
   "source": [
    "4. Calculate the monthly total trading volume for each stock and find the month with the highest total volume for \"AAPL\""
   ]
  },
  {
   "cell_type": "code",
   "execution_count": 119,
   "metadata": {},
   "outputs": [
    {
     "data": {
      "text/plain": [
       "Stock Symbol\n",
       "AAPL    746240450\n",
       "AMZN    759132208\n",
       "GOOG    809513921\n",
       "MSFT    755939917\n",
       "TSLA    748869357\n",
       "Name: Volume, dtype: int64"
      ]
     },
     "execution_count": 119,
     "metadata": {},
     "output_type": "execute_result"
    }
   ],
   "source": [
    "df.groupby('Stock Symbol')['Volume'].sum()"
   ]
  },
  {
   "cell_type": "code",
   "execution_count": 118,
   "metadata": {},
   "outputs": [],
   "source": [
    "# Code here\n",
    "aapl_df = df[df['Stock Symbol']=='AAPL']"
   ]
  },
  {
   "cell_type": "code",
   "execution_count": 121,
   "metadata": {},
   "outputs": [],
   "source": [
    "aapl_monthly_total_volumes = aapl_df.groupby('Months')['Volume'].sum()"
   ]
  },
  {
   "cell_type": "code",
   "execution_count": 138,
   "metadata": {},
   "outputs": [
    {
     "data": {
      "text/plain": [
       "71912931"
      ]
     },
     "execution_count": 138,
     "metadata": {},
     "output_type": "execute_result"
    }
   ],
   "source": [
    "int(aapl_monthly_total_volumes.max())"
   ]
  },
  {
   "cell_type": "code",
   "execution_count": 124,
   "metadata": {},
   "outputs": [
    {
     "data": {
      "text/plain": [
       "'12'"
      ]
     },
     "execution_count": 124,
     "metadata": {},
     "output_type": "execute_result"
    }
   ],
   "source": [
    "aapl_monthly_total_volumes.idxmax()"
   ]
  },
  {
   "cell_type": "markdown",
   "metadata": {},
   "source": [
    "5. Identify the longest consecutive period (in days) when each stock’s closing price remained below its 30-day moving average."
   ]
  },
  {
   "cell_type": "code",
   "execution_count": 10,
   "metadata": {},
   "outputs": [],
   "source": [
    "# Code here"
   ]
  },
  {
   "cell_type": "markdown",
   "metadata": {},
   "source": [
    "6. Calculate the average daily price range (difference between High and Low) for each stock and find the stock with the highest average daily range."
   ]
  },
  {
   "cell_type": "code",
   "execution_count": 125,
   "metadata": {},
   "outputs": [],
   "source": [
    "df['Daily Range'] = df['High'] - df['Low']"
   ]
  },
  {
   "cell_type": "code",
   "execution_count": 126,
   "metadata": {},
   "outputs": [
    {
     "data": {
      "text/plain": [
       "0       0.475255\n",
       "1       0.809732\n",
       "2       2.796864\n",
       "3       1.448769\n",
       "4       2.017095\n",
       "          ...   \n",
       "1295    3.134302\n",
       "1296    2.280286\n",
       "1297    1.421016\n",
       "1298    3.431287\n",
       "1299    2.903763\n",
       "Name: Daily Range, Length: 1300, dtype: float64"
      ]
     },
     "execution_count": 126,
     "metadata": {},
     "output_type": "execute_result"
    }
   ],
   "source": [
    "df['Daily Range']"
   ]
  },
  {
   "cell_type": "code",
   "execution_count": 129,
   "metadata": {},
   "outputs": [
    {
     "data": {
      "text/plain": [
       "Stock Symbol\n",
       "AAPL    1.973639\n",
       "AMZN    2.007343\n",
       "GOOG    2.093504\n",
       "MSFT    2.015722\n",
       "TSLA    1.945473\n",
       "Name: Daily Range, dtype: float64"
      ]
     },
     "execution_count": 129,
     "metadata": {},
     "output_type": "execute_result"
    }
   ],
   "source": [
    "# Code here\n",
    "average_daily_range = df.groupby('Stock Symbol')['Daily Range'].mean()\n",
    "average_daily_range"
   ]
  },
  {
   "cell_type": "code",
   "execution_count": 130,
   "metadata": {},
   "outputs": [
    {
     "data": {
      "text/plain": [
       "'GOOG'"
      ]
     },
     "execution_count": 130,
     "metadata": {},
     "output_type": "execute_result"
    }
   ],
   "source": [
    "average_daily_range.idxmax()"
   ]
  },
  {
   "cell_type": "markdown",
   "metadata": {},
   "source": [
    "7. Calculate the cumulative product of daily returns for each stock and identify the stock with the lowest cumulative return."
   ]
  },
  {
   "cell_type": "code",
   "execution_count": null,
   "metadata": {},
   "outputs": [],
   "source": [
    "# Code here"
   ]
  },
  {
   "cell_type": "markdown",
   "metadata": {},
   "source": [
    "8. Find the stock with the highest median adjusted closing price over the year."
   ]
  },
  {
   "cell_type": "code",
   "execution_count": 131,
   "metadata": {},
   "outputs": [],
   "source": [
    "# Code here\n",
    "median_adj_close = df.groupby('Stock Symbol')['Adjusted Close'].median()"
   ]
  },
  {
   "cell_type": "code",
   "execution_count": 134,
   "metadata": {},
   "outputs": [
    {
     "data": {
      "text/plain": [
       "Stock Symbol\n",
       "AAPL    100.561977\n",
       "AMZN    100.013549\n",
       "GOOG    100.024763\n",
       "MSFT    100.384464\n",
       "TSLA     99.981015\n",
       "Name: Adjusted Close, dtype: float64"
      ]
     },
     "execution_count": 134,
     "metadata": {},
     "output_type": "execute_result"
    }
   ],
   "source": [
    "median_adj_close"
   ]
  },
  {
   "cell_type": "code",
   "execution_count": 133,
   "metadata": {},
   "outputs": [
    {
     "data": {
      "text/plain": [
       "'AAPL'"
      ]
     },
     "execution_count": 133,
     "metadata": {},
     "output_type": "execute_result"
    }
   ],
   "source": [
    "median_adj_close.idxmax()"
   ]
  },
  {
   "cell_type": "markdown",
   "metadata": {},
   "source": [
    "9. Calculate the standard deviation of the adjusted closing price for each stock, and identify the stock with the most stable prices (lowest standard deviation)."
   ]
  },
  {
   "cell_type": "code",
   "execution_count": null,
   "metadata": {},
   "outputs": [],
   "source": [
    "# Code here\n",
    "def calculate_standard_deviation(stock):\n",
    "    stock_df = df[df['Stock Symbol']==stock]\n",
    "    return stock_df['Adjusted Close'].std()"
   ]
  },
  {
   "cell_type": "code",
   "execution_count": 113,
   "metadata": {},
   "outputs": [],
   "source": [
    "stock_df = df.groupby('Stock Symbol')['Adjusted Close'].std()"
   ]
  },
  {
   "cell_type": "code",
   "execution_count": null,
   "metadata": {},
   "outputs": [
    {
     "data": {
      "text/plain": [
       "'AMZN'"
      ]
     },
     "execution_count": 116,
     "metadata": {},
     "output_type": "execute_result"
    }
   ],
   "source": [
    "stock_df.idxmin()"
   ]
  },
  {
   "cell_type": "markdown",
   "metadata": {},
   "source": [
    "10. Identify the day with the highest volume-to-price ratio for each stock, where the volume-to-price ratio is defined as Volume / Close."
   ]
  },
  {
   "cell_type": "code",
   "execution_count": 109,
   "metadata": {},
   "outputs": [],
   "source": [
    "# Code here\n",
    "df['Volume-Price Ratio'] = df['Volume']/df['Close']"
   ]
  },
  {
   "cell_type": "code",
   "execution_count": 110,
   "metadata": {},
   "outputs": [
    {
     "data": {
      "text/html": [
       "<div>\n",
       "<style scoped>\n",
       "    .dataframe tbody tr th:only-of-type {\n",
       "        vertical-align: middle;\n",
       "    }\n",
       "\n",
       "    .dataframe tbody tr th {\n",
       "        vertical-align: top;\n",
       "    }\n",
       "\n",
       "    .dataframe thead th {\n",
       "        text-align: right;\n",
       "    }\n",
       "</style>\n",
       "<table border=\"1\" class=\"dataframe\">\n",
       "  <thead>\n",
       "    <tr style=\"text-align: right;\">\n",
       "      <th></th>\n",
       "      <th>Date</th>\n",
       "      <th>Stock Symbol</th>\n",
       "      <th>Open</th>\n",
       "      <th>High</th>\n",
       "      <th>Low</th>\n",
       "      <th>Close</th>\n",
       "      <th>Adjusted Close</th>\n",
       "      <th>Volume</th>\n",
       "      <th>Months</th>\n",
       "      <th>Volume-Price Ratio</th>\n",
       "    </tr>\n",
       "  </thead>\n",
       "  <tbody>\n",
       "    <tr>\n",
       "      <th>0</th>\n",
       "      <td>2022-01-03</td>\n",
       "      <td>AAPL</td>\n",
       "      <td>99.777893</td>\n",
       "      <td>100.385725</td>\n",
       "      <td>99.910470</td>\n",
       "      <td>100.036281</td>\n",
       "      <td>100.246683</td>\n",
       "      <td>3871650</td>\n",
       "      <td>01</td>\n",
       "      <td>38702.458343</td>\n",
       "    </tr>\n",
       "    <tr>\n",
       "      <th>1</th>\n",
       "      <td>2022-01-04</td>\n",
       "      <td>AAPL</td>\n",
       "      <td>99.439118</td>\n",
       "      <td>100.701557</td>\n",
       "      <td>99.891825</td>\n",
       "      <td>100.045284</td>\n",
       "      <td>101.453156</td>\n",
       "      <td>1686352</td>\n",
       "      <td>01</td>\n",
       "      <td>16855.886948</td>\n",
       "    </tr>\n",
       "    <tr>\n",
       "      <th>2</th>\n",
       "      <td>2022-01-05</td>\n",
       "      <td>AAPL</td>\n",
       "      <td>99.985518</td>\n",
       "      <td>101.427452</td>\n",
       "      <td>98.630588</td>\n",
       "      <td>100.065859</td>\n",
       "      <td>101.916657</td>\n",
       "      <td>4847853</td>\n",
       "      <td>01</td>\n",
       "      <td>48446.623562</td>\n",
       "    </tr>\n",
       "    <tr>\n",
       "      <th>3</th>\n",
       "      <td>2022-01-06</td>\n",
       "      <td>AAPL</td>\n",
       "      <td>99.199884</td>\n",
       "      <td>100.238233</td>\n",
       "      <td>98.789464</td>\n",
       "      <td>100.111677</td>\n",
       "      <td>98.552026</td>\n",
       "      <td>2967592</td>\n",
       "      <td>01</td>\n",
       "      <td>29642.815847</td>\n",
       "    </tr>\n",
       "    <tr>\n",
       "      <th>4</th>\n",
       "      <td>2022-01-07</td>\n",
       "      <td>AAPL</td>\n",
       "      <td>100.750519</td>\n",
       "      <td>101.366349</td>\n",
       "      <td>99.349254</td>\n",
       "      <td>100.150028</td>\n",
       "      <td>100.674140</td>\n",
       "      <td>2170599</td>\n",
       "      <td>01</td>\n",
       "      <td>21673.473726</td>\n",
       "    </tr>\n",
       "  </tbody>\n",
       "</table>\n",
       "</div>"
      ],
      "text/plain": [
       "         Date Stock Symbol        Open        High        Low       Close  \\\n",
       "0  2022-01-03         AAPL   99.777893  100.385725  99.910470  100.036281   \n",
       "1  2022-01-04         AAPL   99.439118  100.701557  99.891825  100.045284   \n",
       "2  2022-01-05         AAPL   99.985518  101.427452  98.630588  100.065859   \n",
       "3  2022-01-06         AAPL   99.199884  100.238233  98.789464  100.111677   \n",
       "4  2022-01-07         AAPL  100.750519  101.366349  99.349254  100.150028   \n",
       "\n",
       "   Adjusted Close   Volume Months  Volume-Price Ratio  \n",
       "0      100.246683  3871650     01        38702.458343  \n",
       "1      101.453156  1686352     01        16855.886948  \n",
       "2      101.916657  4847853     01        48446.623562  \n",
       "3       98.552026  2967592     01        29642.815847  \n",
       "4      100.674140  2170599     01        21673.473726  "
      ]
     },
     "execution_count": 110,
     "metadata": {},
     "output_type": "execute_result"
    }
   ],
   "source": [
    "df.head()"
   ]
  },
  {
   "cell_type": "code",
   "execution_count": 146,
   "metadata": {},
   "outputs": [],
   "source": [
    "def highest_volume_price_ratio(stock_df):\n",
    "    idx = stock_df['Volume-Price Ratio'].idxmax()\n",
    "    date = stock_df.loc[idx, 'Date']\n",
    "    ratio = stock_df.loc[idx, 'Volume-Price Ratio']\n",
    "    return date, ratio"
   ]
  },
  {
   "cell_type": "code",
   "execution_count": 148,
   "metadata": {},
   "outputs": [
    {
     "name": "stdout",
     "output_type": "stream",
     "text": [
      "Stock: AAPL, Date with Highest Volume-Price Ratio: 2022-08-17, Ratio: 49647.642049324815\n",
      "Stock: GOOG, Date with Highest Volume-Price Ratio: 2022-04-21, Ratio: 49996.825824996944\n",
      "Stock: AMZN, Date with Highest Volume-Price Ratio: 2022-07-06, Ratio: 49803.317505158746\n",
      "Stock: TSLA, Date with Highest Volume-Price Ratio: 2022-05-23, Ratio: 49528.35050662439\n",
      "Stock: MSFT, Date with Highest Volume-Price Ratio: 2022-07-29, Ratio: 49789.107676265325\n"
     ]
    }
   ],
   "source": [
    "for stock in stocks:\n",
    "    stock_df = df[df['Stock Symbol'] == stock]\n",
    "    date, ratio = highest_volume_price_ratio(stock_df)\n",
    "    print(f\"Stock: {stock}, Date with Highest Volume-Price Ratio: {date}, Ratio: {ratio}\")"
   ]
  }
 ],
 "metadata": {
  "kernelspec": {
   "display_name": "Python 3",
   "language": "python",
   "name": "python3"
  },
  "language_info": {
   "codemirror_mode": {
    "name": "ipython",
    "version": 3
   },
   "file_extension": ".py",
   "mimetype": "text/x-python",
   "name": "python",
   "nbconvert_exporter": "python",
   "pygments_lexer": "ipython3",
   "version": "3.12.6"
  }
 },
 "nbformat": 4,
 "nbformat_minor": 2
}
