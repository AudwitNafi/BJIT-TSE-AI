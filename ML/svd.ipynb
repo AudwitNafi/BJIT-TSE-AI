{
 "cells": [
  {
   "cell_type": "code",
   "execution_count": 4,
   "metadata": {},
   "outputs": [],
   "source": [
    "import numpy as np"
   ]
  },
  {
   "cell_type": "code",
   "execution_count": null,
   "metadata": {},
   "outputs": [],
   "source": [
    "def svd(matrix):\n",
    "    A_transpose_A = np.dot(matrix.T, matrix)\n",
    "\n",
    "    eigen_values, eigen_vector = np.linalg.eig(A_transpose_A)\n",
    "    \n",
    "    # singular value = sqrt(eigen_value)\n",
    "    sigma = np.sqrt(np.abs(eigen_values))\n",
    "    \n",
    "    #sorting in singular values in descending order\n",
    "    sigma = sigma[np.argsort(-sigma)]\n",
    "    \n",
    "    #ordering eigen vector columns based on descending indices of sigma\n",
    "    eigen_vector = eigen_vector[:, np.argsort(-sigma)]\n",
    "\n",
    "    # Left Singular Vector, U = A.V/sigma\n",
    "    U = np.dot(matrix, eigen_vector) / sigma\n",
    "    \n",
    "    sigma_matrix = np.diag(sigma)\n",
    "    \n",
    "    return U, sigma_matrix, eigen_vector.T"
   ]
  },
  {
   "cell_type": "code",
   "execution_count": 22,
   "metadata": {},
   "outputs": [],
   "source": [
    "def verify_svd(lhs, U, Sigma, V_T):\n",
    "    rhs = np.dot(U, np.dot(Sigma, V_T))\n",
    "    return np.allclose(lhs, rhs)"
   ]
  },
  {
   "cell_type": "code",
   "execution_count": 24,
   "metadata": {},
   "outputs": [
    {
     "name": "stdout",
     "output_type": "stream",
     "text": [
      "Eigenvalues:\n",
      "[217.45646188  43.18377272   1.35976541]\n",
      "\n",
      "Eigenvectors:\n",
      "[[ 0.5357959   0.81240305 -0.23005226]\n",
      " [ 0.40136374 -0.48476698 -0.77711526]\n",
      " [ 0.74285254 -0.32404053  0.58580529]]\n",
      "\n",
      "U:\n",
      "[[ 0.42023818 -0.39354275  0.81763316]\n",
      " [ 0.67530971 -0.46621726 -0.57148776]\n",
      " [ 0.60609955  0.79231659  0.06984095]]\n",
      "\n",
      "Sigma:\n",
      "[[14.74640505  0.          0.        ]\n",
      " [ 0.          6.57143612  0.        ]\n",
      " [ 0.          0.          1.16608979]]\n",
      "\n",
      "V.T:\n",
      "[[ 0.5357959   0.40136374  0.74285254]\n",
      " [ 0.81240305 -0.48476698 -0.32404053]\n",
      " [-0.23005226 -0.77711526  0.58580529]]\n",
      "\n",
      "Does the relation hold?\n",
      "Yes\n"
     ]
    }
   ],
   "source": [
    "if __name__ == \"__main__\":\n",
    "    # A = np.array([[3, 1],\n",
    "    #               [1, 3]])\n",
    "    \n",
    "    A = np.array([[1, 3, 6],\n",
    "                  [3, 6, 8],\n",
    "                  [9, 1, 5]])\n",
    "\n",
    "    eigvals, eigvecs = np.linalg.eig(np.dot(A.T, A))\n",
    "    print(\"Eigenvalues:\")\n",
    "    print(eigvals)\n",
    "    print(\"\\nEigenvectors:\")\n",
    "    print(eigvecs)\n",
    "\n",
    "    # Compute SVD\n",
    "    U, Sigma, V_T = svd(A)\n",
    "    print(\"\\nU:\")\n",
    "    print(U)\n",
    "    print(\"\\nSigma:\")\n",
    "    print(Sigma)\n",
    "    print(\"\\nV.T:\")\n",
    "    print(V_T)\n",
    "\n",
    "    is_verified = verify_svd(A, U, Sigma, V_T)\n",
    "    print(\"\\nDoes the relation hold?\")\n",
    "    print(\"Yes\" if is_verified else \"No\")"
   ]
  }
 ],
 "metadata": {
  "kernelspec": {
   "display_name": "Python 3",
   "language": "python",
   "name": "python3"
  },
  "language_info": {
   "codemirror_mode": {
    "name": "ipython",
    "version": 3
   },
   "file_extension": ".py",
   "mimetype": "text/x-python",
   "name": "python",
   "nbconvert_exporter": "python",
   "pygments_lexer": "ipython3",
   "version": "3.12.6"
  }
 },
 "nbformat": 4,
 "nbformat_minor": 2
}
