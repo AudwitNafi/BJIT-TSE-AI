{
 "cells": [
  {
   "cell_type": "code",
   "execution_count": 4,
   "metadata": {},
   "outputs": [],
   "source": [
    "import numpy as np"
   ]
  },
  {
   "cell_type": "code",
   "execution_count": 15,
   "metadata": {},
   "outputs": [],
   "source": [
    "def transpose_matrix(matrix):\n",
    "    return np.array([[matrix[j][i] for j in range(len(matrix))] \n",
    "                    for i in range(len(matrix[0]))])"
   ]
  },
  {
   "cell_type": "code",
   "execution_count": 5,
   "metadata": {},
   "outputs": [],
   "source": [
    "def get_minor_matrix(matrix, i, j):\n",
    "    return [[matrix[row][col] for col in range(len(matrix)) if col != j]\n",
    "            for row in range(len(matrix)) if row != i]"
   ]
  },
  {
   "cell_type": "code",
   "execution_count": 17,
   "metadata": {},
   "outputs": [],
   "source": [
    "def determinant_recursive(matrix):\n",
    "    if len(matrix)==2:\n",
    "        return matrix[0][0] * matrix[1][1] - matrix[0][1] * matrix[1][0]\n",
    "    determinant = 0\n",
    "    for i in range(len(matrix)):\n",
    "        minor = get_minor_matrix(matrix, 0, i)\n",
    "        determinant += ((-1)**i) * matrix[0][i] * determinant_recursive(minor)\n",
    "    return determinant"
   ]
  },
  {
   "cell_type": "code",
   "execution_count": 11,
   "metadata": {},
   "outputs": [
    {
     "name": "stdout",
     "output_type": "stream",
     "text": [
      "-13\n"
     ]
    }
   ],
   "source": [
    "a = np.array([2, 3, 6, 7, 4, 5, 6, 9, 23])\n",
    "a = a.reshape(3, 3)\n",
    "print(determinant_recursive(a))"
   ]
  },
  {
   "cell_type": "code",
   "execution_count": 10,
   "metadata": {},
   "outputs": [],
   "source": [
    "def create_cofactor_matrix(matrix):\n",
    "    cofactor_matrix = []\n",
    "    for i in range(len(matrix)):\n",
    "        row = []\n",
    "        for j in range(len(matrix)):\n",
    "            minor_matrix = get_minor_matrix(matrix, i, j)\n",
    "            row.append((-1)**(i+j) * determinant_recursive(minor_matrix))\n",
    "        cofactor_matrix.append(row)\n",
    "    # print(cofactor_matrix)\n",
    "    return np.array(cofactor_matrix)"
   ]
  },
  {
   "cell_type": "code",
   "execution_count": 12,
   "metadata": {},
   "outputs": [
    {
     "name": "stdout",
     "output_type": "stream",
     "text": [
      "[[ 13  11 -18]\n",
      " [-11  -7  16]\n",
      " [ -5  -5  10]]\n"
     ]
    }
   ],
   "source": [
    "a = np.array([1, 3, 2, -2, 4, 1, 5, -1, 3])\n",
    "a= a.reshape(3,3)\n",
    "print(create_cofactor_matrix(a))"
   ]
  },
  {
   "cell_type": "code",
   "execution_count": 13,
   "metadata": {},
   "outputs": [],
   "source": [
    "def calculate_inverse_matrix(matrix):\n",
    "    cofactor_matrix = create_cofactor_matrix(matrix)\n",
    "    adjoint = transpose_matrix(cofactor_matrix)\n",
    "    determinant = determinant_recursive(matrix)\n",
    "    if determinant == 0:\n",
    "        print(\"Matrix is singular\")\n",
    "        return None\n",
    "    return adjoint/determinant\n",
    "    "
   ]
  },
  {
   "cell_type": "code",
   "execution_count": 18,
   "metadata": {},
   "outputs": [],
   "source": [
    "b=np.array([1,2,3,4,2,3,4,1,3,4,1,2,4,1,2,3])\n",
    "b = b.reshape(4,4)"
   ]
  },
  {
   "cell_type": "code",
   "execution_count": 19,
   "metadata": {},
   "outputs": [
    {
     "data": {
      "text/plain": [
       "array([[-0.225,  0.025,  0.025,  0.275],\n",
       "       [ 0.025,  0.025,  0.275, -0.225],\n",
       "       [ 0.025,  0.275, -0.225,  0.025],\n",
       "       [ 0.275, -0.225,  0.025,  0.025]])"
      ]
     },
     "execution_count": 19,
     "metadata": {},
     "output_type": "execute_result"
    }
   ],
   "source": [
    "calculate_inverse_matrix(b)"
   ]
  }
 ],
 "metadata": {
  "kernelspec": {
   "display_name": "myEnv",
   "language": "python",
   "name": "python3"
  },
  "language_info": {
   "codemirror_mode": {
    "name": "ipython",
    "version": 3
   },
   "file_extension": ".py",
   "mimetype": "text/x-python",
   "name": "python",
   "nbconvert_exporter": "python",
   "pygments_lexer": "ipython3",
   "version": "3.12.6"
  }
 },
 "nbformat": 4,
 "nbformat_minor": 2
}
